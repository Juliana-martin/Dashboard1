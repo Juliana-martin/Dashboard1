{
 "cells": [
  {
   "cell_type": "code",
   "execution_count": 15,
   "metadata": {},
   "outputs": [],
   "source": [
    "import pandas as pd\n",
    "import plotly.express as px\n",
    "import plotly.graph_objects as go\n",
    "from plotly.subplots import make_subplots"
   ]
  },
  {
   "cell_type": "code",
   "execution_count": 18,
   "metadata": {},
   "outputs": [
    {
     "name": "stderr",
     "output_type": "stream",
     "text": [
      "C:\\Users\\jms107\\AppData\\Roaming\\Python\\Python312\\site-packages\\openpyxl\\worksheet\\_reader.py:329: UserWarning: Data Validation extension is not supported and will be removed\n",
      "  warn(msg)\n"
     ]
    },
    {
     "data": {
      "text/html": [
       "<div>\n",
       "<style scoped>\n",
       "    .dataframe tbody tr th:only-of-type {\n",
       "        vertical-align: middle;\n",
       "    }\n",
       "\n",
       "    .dataframe tbody tr th {\n",
       "        vertical-align: top;\n",
       "    }\n",
       "\n",
       "    .dataframe thead th {\n",
       "        text-align: right;\n",
       "    }\n",
       "</style>\n",
       "<table border=\"1\" class=\"dataframe\">\n",
       "  <thead>\n",
       "    <tr style=\"text-align: right;\">\n",
       "      <th></th>\n",
       "      <th>Hostname</th>\n",
       "      <th>ServiceTag</th>\n",
       "      <th>Modelo</th>\n",
       "      <th>Tipo_Equipamento:</th>\n",
       "      <th>Idade:</th>\n",
       "      <th>Departamento:</th>\n",
       "      <th>Localidade_Equipamento:</th>\n",
       "      <th>Garantia:</th>\n",
       "      <th>Status:</th>\n",
       "      <th>Hostname_Antigo:</th>\n",
       "      <th>ServiceTag_Antigo:</th>\n",
       "      <th>Modelo_Hostname_Antigo:</th>\n",
       "      <th>Tipo_Hostname_Antigo:</th>\n",
       "      <th>Idade_Hostname_Antigo:</th>\n",
       "      <th>Status_Equip_Antigo</th>\n",
       "    </tr>\n",
       "  </thead>\n",
       "  <tbody>\n",
       "    <tr>\n",
       "      <th>0</th>\n",
       "      <td>NaN</td>\n",
       "      <td>263H8Y3</td>\n",
       "      <td>DELL OPTIPLEX 3000</td>\n",
       "      <td>Desktop</td>\n",
       "      <td>1.0</td>\n",
       "      <td>NaN</td>\n",
       "      <td>NaN</td>\n",
       "      <td>arrumar</td>\n",
       "      <td>Em uso</td>\n",
       "      <td>EROPVHRME-0779D</td>\n",
       "      <td>6SFHF82</td>\n",
       "      <td>OPTIPLEX 9020</td>\n",
       "      <td>Desktop</td>\n",
       "      <td>8.0</td>\n",
       "      <td>Doação</td>\n",
       "    </tr>\n",
       "    <tr>\n",
       "      <th>1</th>\n",
       "      <td>NaN</td>\n",
       "      <td>273H8Y3</td>\n",
       "      <td>DELL OPTIPLEX 3000</td>\n",
       "      <td>Desktop</td>\n",
       "      <td>1.0</td>\n",
       "      <td>NaN</td>\n",
       "      <td>NaN</td>\n",
       "      <td>arrumar</td>\n",
       "      <td>Em uso</td>\n",
       "      <td>NaN</td>\n",
       "      <td>6V5MF82</td>\n",
       "      <td>OPTIPLEX 9020</td>\n",
       "      <td>Desktop</td>\n",
       "      <td>8.0</td>\n",
       "      <td>Doação</td>\n",
       "    </tr>\n",
       "    <tr>\n",
       "      <th>2</th>\n",
       "      <td>NaN</td>\n",
       "      <td>953H8Y3</td>\n",
       "      <td>DELL OPTIPLEX 3000</td>\n",
       "      <td>Desktop</td>\n",
       "      <td>1.0</td>\n",
       "      <td>NaN</td>\n",
       "      <td>NaN</td>\n",
       "      <td>NaN</td>\n",
       "      <td>Em uso</td>\n",
       "      <td>EROPVHRME-0888D</td>\n",
       "      <td>6TBFF82</td>\n",
       "      <td>OPTIPLEX 9020</td>\n",
       "      <td>Desktop</td>\n",
       "      <td>8.0</td>\n",
       "      <td>Doação</td>\n",
       "    </tr>\n",
       "    <tr>\n",
       "      <th>3</th>\n",
       "      <td>NaN</td>\n",
       "      <td>763H8Y3</td>\n",
       "      <td>DELL OPTIPLEX 3000</td>\n",
       "      <td>Desktop</td>\n",
       "      <td>1.0</td>\n",
       "      <td>NaN</td>\n",
       "      <td>NaN</td>\n",
       "      <td>arrumar</td>\n",
       "      <td>Em uso</td>\n",
       "      <td>EROPVHRME-0960D</td>\n",
       "      <td>6X2FF82</td>\n",
       "      <td>OPTIPLEX 9020</td>\n",
       "      <td>Desktop</td>\n",
       "      <td>8.0</td>\n",
       "      <td>Doação</td>\n",
       "    </tr>\n",
       "    <tr>\n",
       "      <th>4</th>\n",
       "      <td>NaN</td>\n",
       "      <td>F53H8Y3</td>\n",
       "      <td>DELL OPTIPLEX 3000</td>\n",
       "      <td>Desktop</td>\n",
       "      <td>1.0</td>\n",
       "      <td>NaN</td>\n",
       "      <td>NaN</td>\n",
       "      <td>arrumar</td>\n",
       "      <td>Em uso</td>\n",
       "      <td>EROPVHRME-1508D</td>\n",
       "      <td>6WTCF82</td>\n",
       "      <td>OPTIPLEX 9020</td>\n",
       "      <td>Desktop</td>\n",
       "      <td>8.0</td>\n",
       "      <td>Doação</td>\n",
       "    </tr>\n",
       "    <tr>\n",
       "      <th>...</th>\n",
       "      <td>...</td>\n",
       "      <td>...</td>\n",
       "      <td>...</td>\n",
       "      <td>...</td>\n",
       "      <td>...</td>\n",
       "      <td>...</td>\n",
       "      <td>...</td>\n",
       "      <td>...</td>\n",
       "      <td>...</td>\n",
       "      <td>...</td>\n",
       "      <td>...</td>\n",
       "      <td>...</td>\n",
       "      <td>...</td>\n",
       "      <td>...</td>\n",
       "      <td>...</td>\n",
       "    </tr>\n",
       "    <tr>\n",
       "      <th>1148</th>\n",
       "      <td>NaN</td>\n",
       "      <td>C0PTB24</td>\n",
       "      <td>DELL OPTIPLEX 7010</td>\n",
       "      <td>Desktop</td>\n",
       "      <td>0.0</td>\n",
       "      <td>NaN</td>\n",
       "      <td>NaN</td>\n",
       "      <td>NaN</td>\n",
       "      <td>Estoque PN 2024</td>\n",
       "      <td>NaN</td>\n",
       "      <td>NaN</td>\n",
       "      <td>NaN</td>\n",
       "      <td>NaN</td>\n",
       "      <td>NaN</td>\n",
       "      <td>NaN</td>\n",
       "    </tr>\n",
       "    <tr>\n",
       "      <th>1149</th>\n",
       "      <td>NaN</td>\n",
       "      <td>70PTB24</td>\n",
       "      <td>DELL OPTIPLEX 7010</td>\n",
       "      <td>Desktop</td>\n",
       "      <td>0.0</td>\n",
       "      <td>NaN</td>\n",
       "      <td>NaN</td>\n",
       "      <td>NaN</td>\n",
       "      <td>Estoque PN 2024</td>\n",
       "      <td>NaN</td>\n",
       "      <td>NaN</td>\n",
       "      <td>NaN</td>\n",
       "      <td>NaN</td>\n",
       "      <td>NaN</td>\n",
       "      <td>NaN</td>\n",
       "    </tr>\n",
       "    <tr>\n",
       "      <th>1150</th>\n",
       "      <td>NaN</td>\n",
       "      <td>11PTB24</td>\n",
       "      <td>DELL OPTIPLEX 7010</td>\n",
       "      <td>Desktop</td>\n",
       "      <td>0.0</td>\n",
       "      <td>NaN</td>\n",
       "      <td>NaN</td>\n",
       "      <td>NaN</td>\n",
       "      <td>Estoque PN 2024</td>\n",
       "      <td>NaN</td>\n",
       "      <td>NaN</td>\n",
       "      <td>NaN</td>\n",
       "      <td>NaN</td>\n",
       "      <td>NaN</td>\n",
       "      <td>NaN</td>\n",
       "    </tr>\n",
       "    <tr>\n",
       "      <th>1151</th>\n",
       "      <td>NaN</td>\n",
       "      <td>F0PTB24</td>\n",
       "      <td>DELL OPTIPLEX 7010</td>\n",
       "      <td>Desktop</td>\n",
       "      <td>0.0</td>\n",
       "      <td>NaN</td>\n",
       "      <td>NaN</td>\n",
       "      <td>NaN</td>\n",
       "      <td>Estoque PN 2024</td>\n",
       "      <td>NaN</td>\n",
       "      <td>NaN</td>\n",
       "      <td>NaN</td>\n",
       "      <td>NaN</td>\n",
       "      <td>NaN</td>\n",
       "      <td>NaN</td>\n",
       "    </tr>\n",
       "    <tr>\n",
       "      <th>1152</th>\n",
       "      <td>NaN</td>\n",
       "      <td>G0PTB24</td>\n",
       "      <td>DELL OPTIPLEX 7010</td>\n",
       "      <td>Desktop</td>\n",
       "      <td>0.0</td>\n",
       "      <td>NaN</td>\n",
       "      <td>NaN</td>\n",
       "      <td>NaN</td>\n",
       "      <td>Estoque PN 2024</td>\n",
       "      <td>NaN</td>\n",
       "      <td>NaN</td>\n",
       "      <td>NaN</td>\n",
       "      <td>NaN</td>\n",
       "      <td>NaN</td>\n",
       "      <td>NaN</td>\n",
       "    </tr>\n",
       "  </tbody>\n",
       "</table>\n",
       "<p>1153 rows × 15 columns</p>\n",
       "</div>"
      ],
      "text/plain": [
       "     Hostname ServiceTag               Modelo Tipo_Equipamento:  Idade:  \\\n",
       "0         NaN   263H8Y3   DELL OPTIPLEX 3000            Desktop     1.0   \n",
       "1         NaN   273H8Y3   DELL OPTIPLEX 3000            Desktop     1.0   \n",
       "2         NaN   953H8Y3   DELL OPTIPLEX 3000            Desktop     1.0   \n",
       "3         NaN   763H8Y3   DELL OPTIPLEX 3000            Desktop     1.0   \n",
       "4         NaN   F53H8Y3   DELL OPTIPLEX 3000            Desktop     1.0   \n",
       "...       ...        ...                  ...               ...     ...   \n",
       "1148      NaN    C0PTB24   DELL OPTIPLEX 7010           Desktop     0.0   \n",
       "1149      NaN    70PTB24   DELL OPTIPLEX 7010           Desktop     0.0   \n",
       "1150      NaN    11PTB24   DELL OPTIPLEX 7010           Desktop     0.0   \n",
       "1151      NaN    F0PTB24   DELL OPTIPLEX 7010           Desktop     0.0   \n",
       "1152      NaN    G0PTB24   DELL OPTIPLEX 7010           Desktop     0.0   \n",
       "\n",
       "     Departamento:  Localidade_Equipamento: Garantia:          Status:  \\\n",
       "0              NaN                      NaN   arrumar           Em uso   \n",
       "1              NaN                      NaN   arrumar           Em uso   \n",
       "2              NaN                      NaN       NaN           Em uso   \n",
       "3              NaN                      NaN   arrumar           Em uso   \n",
       "4              NaN                      NaN   arrumar           Em uso   \n",
       "...            ...                      ...       ...              ...   \n",
       "1148           NaN                      NaN       NaN  Estoque PN 2024   \n",
       "1149           NaN                      NaN       NaN  Estoque PN 2024   \n",
       "1150           NaN                      NaN       NaN  Estoque PN 2024   \n",
       "1151           NaN                      NaN       NaN  Estoque PN 2024   \n",
       "1152           NaN                      NaN       NaN  Estoque PN 2024   \n",
       "\n",
       "     Hostname_Antigo: ServiceTag_Antigo: Modelo_Hostname_Antigo:  \\\n",
       "0     EROPVHRME-0779D            6SFHF82           OPTIPLEX 9020   \n",
       "1                 NaN            6V5MF82           OPTIPLEX 9020   \n",
       "2     EROPVHRME-0888D            6TBFF82           OPTIPLEX 9020   \n",
       "3     EROPVHRME-0960D            6X2FF82           OPTIPLEX 9020   \n",
       "4     EROPVHRME-1508D            6WTCF82           OPTIPLEX 9020   \n",
       "...               ...                ...                     ...   \n",
       "1148              NaN                NaN                     NaN   \n",
       "1149              NaN                NaN                     NaN   \n",
       "1150              NaN                NaN                     NaN   \n",
       "1151              NaN                NaN                     NaN   \n",
       "1152              NaN                NaN                     NaN   \n",
       "\n",
       "     Tipo_Hostname_Antigo:  Idade_Hostname_Antigo: Status_Equip_Antigo  \n",
       "0                  Desktop                     8.0              Doação  \n",
       "1                  Desktop                     8.0              Doação  \n",
       "2                  Desktop                     8.0              Doação  \n",
       "3                  Desktop                     8.0              Doação  \n",
       "4                  Desktop                     8.0              Doação  \n",
       "...                    ...                     ...                 ...  \n",
       "1148                   NaN                     NaN                 NaN  \n",
       "1149                   NaN                     NaN                 NaN  \n",
       "1150                   NaN                     NaN                 NaN  \n",
       "1151                   NaN                     NaN                 NaN  \n",
       "1152                   NaN                     NaN                 NaN  \n",
       "\n",
       "[1153 rows x 15 columns]"
      ]
     },
     "metadata": {},
     "output_type": "display_data"
    }
   ],
   "source": [
    "tabela= pd.read_excel(\"inventario.xlsx\")\n",
    "display(tabela)"
   ]
  },
  {
   "cell_type": "code",
   "execution_count": 29,
   "metadata": {},
   "outputs": [
    {
     "name": "stdout",
     "output_type": "stream",
     "text": [
      "Tipo_Equipamento:\n",
      "Desktop        702\n",
      "Notebook       397\n",
      "Thin Client     54\n",
      "Name: count, dtype: int64\n"
     ]
    }
   ],
   "source": [
    "# Verificar os valores únicos na coluna 'Tipo_Equipamento'\n",
    "contagem = tabela[\"Tipo_Equipamento:\"].value_counts()\n",
    "print(contagem)"
   ]
  },
  {
   "cell_type": "code",
   "execution_count": 32,
   "metadata": {},
   "outputs": [
    {
     "name": "stdout",
     "output_type": "stream",
     "text": [
      "Tipo_Equipamento:  Modelo               \n",
      "Desktop            OptiPlex 3070            273\n",
      "                   OptiPlex 3060            197\n",
      "                   OptiPlex 3000             49\n",
      "                   OptiPlex 3080             48\n",
      "                   OptiPlex 9020             41\n",
      "                   DELL OPTIPLEX 3000        36\n",
      "                   OptiPlex 3090             26\n",
      "                   DELL OPTIPLEX 7010        14\n",
      "                   OptiPlex 7010             12\n",
      "                   HP Z440 Workstation        3\n",
      "                   OptiPlex Micro 7010        2\n",
      "                   OptiPlex 7070              1\n",
      "Notebook           Latitude 3420            132\n",
      "                   Latitude 3490            125\n",
      "                   Latitude 3400             58\n",
      "                   Latitude 3410             44\n",
      "                   Dell 3420                 14\n",
      "                   HP 240 G6 Notebook PC      4\n",
      "                   Latitude 3440              4\n",
      "                   Latitude 5490              4\n",
      "                   Latitude E5450             3\n",
      "                   Inspiron 5482              2\n",
      "                   Vostro 3583                2\n",
      "                   XPS 9320                   2\n",
      "                   Dell 3440                  1\n",
      "                   Inspiron 3420              1\n",
      "                   Latitude 3450              1\n",
      "Thin Client        Wyse 5070 Thin Client     54\n",
      "Name: count, dtype: int64\n"
     ]
    }
   ],
   "source": [
    "produtos = tabela [[\"Tipo_Equipamento:\", \"Modelo\"]].groupby(\"Tipo_Equipamento:\").value_counts()\n",
    "print(produtos)"
   ]
  },
  {
   "cell_type": "code",
   "execution_count": null,
   "metadata": {},
   "outputs": [],
   "source": [
    "dados_x = 'Tipo_Equipamento:'\n",
    "dados_y1 = 'Modelo'\n",
    "\n",
    "# Criar os gráficos de barras com Plotly Express\n",
    "fig1 = px.bar(tabela, x=dados_x, title='Gráfico de Barras - Modelo', color_discrete_sequence=['#808080'])\n",
    "fig2 = px.bar(tabela, x=dados_x, title='Gráfico de Barras - Status', color_discrete_sequence=['#FF5733'])\n",
    "\n",
    "# Criar subplots\n",
    "fig = make_subplots(rows=1, cols=2, subplot_titles=(\"Gráfico de Barras - Modelo\", \"Gráfico de Barras - Status\"))\n",
    "\n",
    "fig.show()"
   ]
  },
  {
   "cell_type": "code",
   "execution_count": 36,
   "metadata": {},
   "outputs": [
    {
     "name": "stdout",
     "output_type": "stream",
     "text": [
      "Tipo_Equipamento:\n",
      "Desktop        702\n",
      "Notebook       397\n",
      "Thin Client     54\n",
      "Name: count, dtype: int64\n"
     ]
    }
   ],
   "source": [
    "contagem2 = tabela[\"Tipo_Equipamento:\"].value_counts()\n",
    "tipos = contagem2.head()\n",
    "print(tipos)"
   ]
  },
  {
   "cell_type": "code",
   "execution_count": 37,
   "metadata": {},
   "outputs": [
    {
     "name": "stdout",
     "output_type": "stream",
     "text": [
      "Linhas onde o equipamento está presente:\n",
      "Empty DataFrame\n",
      "Columns: [Hostname, ServiceTag, Modelo, Tipo_Equipamento:, Idade:, Departamento:, Localidade_Equipamento:, Garantia:, Status:, Hostname_Antigo:, ServiceTag_Antigo:, Modelo_Hostname_Antigo:, Tipo_Hostname_Antigo:, Idade_Hostname_Antigo:, Status_Equip_Antigo]\n",
      "Index: []\n"
     ]
    }
   ],
   "source": [
    "# Equipamento que você está procurando\n",
    "equipamento_procurado = \"Tablet\"\n",
    "\n",
    "# Verificar se o equipamento está presente na coluna \"Tipo_Equipamento\"\n",
    "equipamento_presente = tabela[\"Tipo_Equipamento:\"].str.contains(equipamento_procurado, case=False)\n",
    "\n",
    "# Mostrar as linhas onde o equipamento está presente\n",
    "equipamento_encontrado = tabela[equipamento_presente]\n",
    "print(\"Linhas onde o equipamento está presente:\")\n",
    "print(equipamento_encontrado)"
   ]
  },
  {
   "cell_type": "code",
   "execution_count": 42,
   "metadata": {},
   "outputs": [
    {
     "name": "stdout",
     "output_type": "stream",
     "text": [
      "Modelo\n",
      "OptiPlex 3070    273\n",
      "OptiPlex 3060    197\n",
      "Latitude 3420    132\n",
      "Latitude 3490    125\n",
      "Latitude 3400     58\n",
      "Name: count, dtype: int64\n"
     ]
    }
   ],
   "source": [
    "contagem3 = tabela[\"Modelo\"].value_counts()\n",
    "tipos2 = contagem3.head()\n",
    "print(tipos2)"
   ]
  },
  {
   "cell_type": "code",
   "execution_count": 45,
   "metadata": {},
   "outputs": [
    {
     "name": "stdout",
     "output_type": "stream",
     "text": [
      "Sheets disponíveis no arquivo 'inventario.xlsx':\n",
      "Workstations\n",
      "Smartphone\n",
      "PDA e Tablet\n",
      "Impressoras\n",
      "Manutenções\n",
      "Lista suspensa\n",
      "Planilha1\n"
     ]
    }
   ],
   "source": [
    "\n",
    "\n",
    "# Especificar o caminho para o arquivo Excel\n",
    "caminho_arquivo_excel = \"inventario.xlsx\"\n",
    "\n",
    "# Carregar o arquivo Excel\n",
    "xls = pd.ExcelFile(caminho_arquivo_excel)\n",
    "\n",
    "# Listar todas as sheets disponíveis\n",
    "sheets_disponiveis = xls.sheet_names\n",
    "\n",
    "# Imprimir as sheets disponíveis\n",
    "print(\"Sheets disponíveis no arquivo 'inventario.xlsx':\")\n",
    "for sheet in sheets_disponiveis:\n",
    "    print(sheet)\n"
   ]
  },
  {
   "cell_type": "code",
   "execution_count": 47,
   "metadata": {},
   "outputs": [
    {
     "name": "stdout",
     "output_type": "stream",
     "text": [
      "  EMPRESA              IMEI          N/S     MARCA           MODELO  \\\n",
      "0     ERO  352246100238834   RX2M200PPKR   SAMSUNG             TabA   \n",
      "1     ERO  352246100234320   RX2M200M92Y   SAMSUNG             TabA   \n",
      "2     ERO   354140101474696          NaN  MOTOROLA  MOTOROLA MOTO E   \n",
      "3     ERO   354140101473276          NaN  MOTOROLA  MOTOROLA MOTO E   \n",
      "4     ERO   354140101481998          NaN  MOTOROLA  MOTOROLA MOTO E   \n",
      "\n",
      "  DATA ENTREGA  GRUPO  CARGO  SETOR COLABORADOR  STATUS DATA DA TROCA  \\\n",
      "0   2024-04-29    NaN    NaN    NaN         NaN  Em Uso    2024-04-29   \n",
      "1   2024-04-16    NaN    NaN    NaN         NaN  Em Uso    2024-04-16   \n",
      "2          NaT    NaN    NaN    NaN         NaN  Em Uso           NaT   \n",
      "3          NaT    NaN    NaN    NaN         NaN  Em Uso           NaT   \n",
      "4          NaT    NaN    NaN    NaN         NaN  Em Uso           NaT   \n",
      "\n",
      "          N/S2         IMEI2               MOTIVO               DESTINO  \n",
      "0  RX2M200PR4D  3.522461e+14  Tela com mau contato  Estoque p/ descarte  \n",
      "1  RX2M200717B  3.522461e+14     Defeito no toutch  Estoque p/ descarte  \n",
      "2          NaN           NaN                   NaN                  NaN  \n",
      "3          NaN           NaN                   NaN                  NaN  \n",
      "4          NaN           NaN                   NaN                  NaN  \n"
     ]
    },
    {
     "name": "stderr",
     "output_type": "stream",
     "text": [
      "C:\\Users\\jms107\\AppData\\Roaming\\Python\\Python312\\site-packages\\openpyxl\\worksheet\\_reader.py:329: UserWarning:\n",
      "\n",
      "Data Validation extension is not supported and will be removed\n",
      "\n"
     ]
    }
   ],
   "source": [
    "nome_planilha = \"PDA e Tablet\"\n",
    "\n",
    "# Carregar os dados da planilha especificada\n",
    "dados_pda = pd.read_excel(\"inventario.xlsx\", sheet_name=nome_planilha)\n",
    "\n",
    "# Exibir as primeiras linhas dos dados\n",
    "print(dados_pda.head())"
   ]
  },
  {
   "cell_type": "code",
   "execution_count": 49,
   "metadata": {},
   "outputs": [
    {
     "name": "stdout",
     "output_type": "stream",
     "text": [
      "  EMPRESA  LOCAL  HOSTNAME     SERVICE TAG MODELO     TIPO EQUIPAMENTO  \\\n",
      "0     ERO    NaN       NaN  XXRBN231201879  ZQ521  Impressora portátil   \n",
      "1     ERO    NaN       NaN  XXRBN231201934  ZQ521  Impressora portátil   \n",
      "2     ERO    NaN       NaN  XXRBN231201903  ZQ521  Impressora portátil   \n",
      "3     ERO    NaN       NaN  XXRBN231201916  ZQ521  Impressora portátil   \n",
      "4     ERO    NaN       NaN  XXRBN231201912  ZQ521  Impressora portátil   \n",
      "\n",
      "   DEPARTAMENTO  IP IDADE  STATUS  DATA TROCA  MOTIVO  DESTINO  \n",
      "0           NaN NaN   NaN  Em uso         NaN     NaN      NaN  \n",
      "1           NaN NaN   NaN  Em uso         NaN     NaN      NaN  \n",
      "2           NaN NaN   NaN  Em uso         NaN     NaN      NaN  \n",
      "3           NaN NaN   NaN  Em uso         NaN     NaN      NaN  \n",
      "4           NaN NaN   NaN  Em uso         NaN     NaN      NaN  \n"
     ]
    },
    {
     "name": "stderr",
     "output_type": "stream",
     "text": [
      "C:\\Users\\jms107\\AppData\\Roaming\\Python\\Python312\\site-packages\\openpyxl\\worksheet\\_reader.py:329: UserWarning:\n",
      "\n",
      "Data Validation extension is not supported and will be removed\n",
      "\n"
     ]
    }
   ],
   "source": [
    "nome_planilha = \"Impressoras\"\n",
    "\n",
    "# Carregar os dados da planilha especificada\n",
    "dados_pda = pd.read_excel(\"inventario.xlsx\", sheet_name=nome_planilha)\n",
    "\n",
    "# Exibir as primeiras linhas dos dados\n",
    "print(dados_pda.head())"
   ]
  },
  {
   "cell_type": "code",
   "execution_count": 50,
   "metadata": {},
   "outputs": [
    {
     "name": "stdout",
     "output_type": "stream",
     "text": [
      "  EMPRESA              IMEI    MARCA MODELO  DATA ENTREGA  GRUPO  CARGO  \\\n",
      "0     ERO  358615317103573   SAMSUNG    S23           NaN    NaN    NaN   \n",
      "1     ERO  358615317103722   SAMSUNG    S23           NaN    NaN    NaN   \n",
      "2     ERO  358615317103631   SAMSUNG    S23           NaN    NaN    NaN   \n",
      "3     ERO  358615317103748   SAMSUNG    S23           NaN    NaN    NaN   \n",
      "4     ERO  358615317103086   SAMSUNG    S23           NaN    NaN    NaN   \n",
      "\n",
      "   SETOR COLABORADOR   STATUS  DATA DA TROCA  MOTIVO   DESTINO  \n",
      "0    NaN     arrumar   Em Uso            NaN      NaN      NaN  \n",
      "1    NaN     arrumar   Em Uso            NaN      NaN      NaN  \n",
      "2    NaN     arrumar   Em Uso            NaN      NaN      NaN  \n",
      "3    NaN     arrumar   Em Uso            NaN      NaN      NaN  \n",
      "4    NaN         NaN  Estoque            NaN      NaN      NaN  \n"
     ]
    },
    {
     "name": "stderr",
     "output_type": "stream",
     "text": [
      "C:\\Users\\jms107\\AppData\\Roaming\\Python\\Python312\\site-packages\\openpyxl\\worksheet\\_reader.py:329: UserWarning:\n",
      "\n",
      "Data Validation extension is not supported and will be removed\n",
      "\n"
     ]
    }
   ],
   "source": [
    "nome_planilha = \"Smartphone\"\n",
    "\n",
    "# Carregar os dados da planilha especificada\n",
    "dados_pda = pd.read_excel(\"inventario.xlsx\", sheet_name=nome_planilha)\n",
    "\n",
    "# Exibir as primeiras linhas dos dados\n",
    "print(dados_pda.head())"
   ]
  }
 ],
 "metadata": {
  "kernelspec": {
   "display_name": "Python 3",
   "language": "python",
   "name": "python3"
  },
  "language_info": {
   "codemirror_mode": {
    "name": "ipython",
    "version": 3
   },
   "file_extension": ".py",
   "mimetype": "text/x-python",
   "name": "python",
   "nbconvert_exporter": "python",
   "pygments_lexer": "ipython3",
   "version": "3.12.3"
  }
 },
 "nbformat": 4,
 "nbformat_minor": 2
}
